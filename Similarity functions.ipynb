{
 "cells": [
  {
   "cell_type": "code",
   "execution_count": null,
   "metadata": {
    "collapsed": true
   },
   "outputs": [],
   "source": [
    "#to compute similarity of 1 tensor with multiple tensors\n",
    "\n",
    "\n",
    "\n",
    "\n",
    "#compute cosine similarity of base embedding with list of positive and negative partner embeddings\n",
    "#and get tensor of cosine similarity of shape (batch_size, number_of_partners)\n",
    "#i.e. computing cosine similarity with all the other tensors available\n",
    "def cosine_similarity(base_embedding, compare_embeddings):\n",
    "    normalized_base_emb = normalize_embeddings(base_embedding)\n",
    "    cos_similarities = list()\n",
    "    for compare_embedding in compare_embeddings:\n",
    "        normalized_compare_emb = normalize_embeddings(compare_embedding)\n",
    "        cos_sim = tf.reduce_sum(tf.multiply(normalized_base_emb, normalized_compare_emb), axis=1, keep_dims=True)\n",
    "        cos_similarities.append(cos_sim)\n",
    "    cos_similarities = tf.concat(cos_similarities, axis=1)\n",
    "    return cos_similarities\n"
   ]
  }
 ],
 "metadata": {
  "kernelspec": {
   "display_name": "Python 2",
   "language": "python",
   "name": "python2"
  },
  "language_info": {
   "codemirror_mode": {
    "name": "ipython",
    "version": 2
   },
   "file_extension": ".py",
   "mimetype": "text/x-python",
   "name": "python",
   "nbconvert_exporter": "python",
   "pygments_lexer": "ipython2",
   "version": "2.7.12"
  }
 },
 "nbformat": 4,
 "nbformat_minor": 2
}
